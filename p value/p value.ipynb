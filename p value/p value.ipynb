{
 "cells": [
  {
   "cell_type": "code",
   "execution_count": 3,
   "metadata": {},
   "outputs": [
    {
     "data": {
      "text/plain": [
       "'p value is : 0.25142889509531013'"
      ]
     },
     "execution_count": 3,
     "metadata": {},
     "output_type": "execute_result"
    }
   ],
   "source": [
    "# importing packages\n",
    "import scipy.stats\n",
    "  \n",
    "# finding p-value\n",
    "p_value = scipy.stats.norm.sf(abs(-0.67))\n",
    "('p value is : ' + str(p_value))"
   ]
  },
  {
   "cell_type": "code",
   "execution_count": 5,
   "metadata": {},
   "outputs": [
    {
     "data": {
      "text/plain": [
       "'p value is : 0.04745968180294733'"
      ]
     },
     "execution_count": 5,
     "metadata": {},
     "output_type": "execute_result"
    }
   ],
   "source": [
    "# importing packages\n",
    "import scipy.stats\n",
    "  \n",
    "# finding p-value\n",
    "p_value = scipy.stats.norm.sf(abs(1.67))\n",
    "('p value is : ' + str(p_value))"
   ]
  },
  {
   "cell_type": "code",
   "execution_count": 6,
   "metadata": {},
   "outputs": [
    {
     "name": "stdout",
     "output_type": "stream",
     "text": [
      "[-1.2493901  -1.01512945 -0.78086881 -0.78086881 -0.78086881 -0.54660817\n",
      " -0.31234752  0.62469505  0.85895569  0.85895569  1.09321633  2.0302589 ]\n"
     ]
    }
   ],
   "source": [
    "# Calculate the z-score from with scipy\n",
    "import scipy.stats as stats\n",
    "values = [4,5,6,6,6,7,8,12,13,13,14,18]\n",
    "\n",
    "zscores = stats.zscore(values)\n",
    "print(zscores)"
   ]
  },
  {
   "cell_type": "code",
   "execution_count": 8,
   "metadata": {},
   "outputs": [
    {
     "data": {
      "text/plain": [
       "4.458563432181702"
      ]
     },
     "execution_count": 8,
     "metadata": {},
     "output_type": "execute_result"
    }
   ],
   "source": [
    "# Calculate the Standard Deviation in Python\n",
    "mean = sum(values) / len(values)\n",
    "differences = [(value - mean)**2 for value in values]\n",
    "sum_of_differences = sum(differences)\n",
    "standard_deviation = (sum_of_differences / (len(values) - 1)) ** 0.5\n",
    "(standard_deviation)"
   ]
  },
  {
   "cell_type": "code",
   "execution_count": null,
   "metadata": {},
   "outputs": [],
   "source": []
  },
  {
   "cell_type": "code",
   "execution_count": 20,
   "metadata": {},
   "outputs": [
    {
     "data": {
      "text/html": [
       "<div>\n",
       "<style scoped>\n",
       "    .dataframe tbody tr th:only-of-type {\n",
       "        vertical-align: middle;\n",
       "    }\n",
       "\n",
       "    .dataframe tbody tr th {\n",
       "        vertical-align: top;\n",
       "    }\n",
       "\n",
       "    .dataframe thead th {\n",
       "        text-align: right;\n",
       "    }\n",
       "</style>\n",
       "<table border=\"1\" class=\"dataframe\">\n",
       "  <thead>\n",
       "    <tr style=\"text-align: right;\">\n",
       "      <th></th>\n",
       "      <th>Name</th>\n",
       "      <th>Age</th>\n",
       "      <th>Amount</th>\n",
       "      <th>Level</th>\n",
       "    </tr>\n",
       "  </thead>\n",
       "  <tbody>\n",
       "    <tr>\n",
       "      <th>0</th>\n",
       "      <td>Nik</td>\n",
       "      <td>32</td>\n",
       "      <td>80000</td>\n",
       "      <td>5</td>\n",
       "    </tr>\n",
       "    <tr>\n",
       "      <th>1</th>\n",
       "      <td>Kate</td>\n",
       "      <td>30</td>\n",
       "      <td>90000</td>\n",
       "      <td>7</td>\n",
       "    </tr>\n",
       "    <tr>\n",
       "      <th>2</th>\n",
       "      <td>Joe</td>\n",
       "      <td>67</td>\n",
       "      <td>45000</td>\n",
       "      <td>3</td>\n",
       "    </tr>\n",
       "    <tr>\n",
       "      <th>3</th>\n",
       "      <td>Mitch</td>\n",
       "      <td>34</td>\n",
       "      <td>23000</td>\n",
       "      <td>4</td>\n",
       "    </tr>\n",
       "    <tr>\n",
       "      <th>4</th>\n",
       "      <td>Alana</td>\n",
       "      <td>20</td>\n",
       "      <td>12000</td>\n",
       "      <td>4</td>\n",
       "    </tr>\n",
       "  </tbody>\n",
       "</table>\n",
       "</div>"
      ],
      "text/plain": [
       "    Name  Age  Amount  Level\n",
       "0    Nik   32   80000      5\n",
       "1   Kate   30   90000      7\n",
       "2    Joe   67   45000      3\n",
       "3  Mitch   34   23000      4\n",
       "4  Alana   20   12000      4"
      ]
     },
     "execution_count": 20,
     "metadata": {},
     "output_type": "execute_result"
    }
   ],
   "source": [
    "# Loading a Sample Pandas Dataframe\n",
    "import pandas as pd\n",
    "\n",
    "df = pd.DataFrame.from_dict({\n",
    "    'Name': ['Nik', 'Kate', 'Joe', 'Mitch', 'Alana'],\n",
    "    'Age': [32, 30, 67, 34, 20],\n",
    "    'Amount': [80000, 90000, 45000, 23000, 12000],\n",
    "    'Level' : [5, 7, 3, 4, 4]\n",
    "})\n",
    "(df.head())"
   ]
  },
  {
   "cell_type": "code",
   "execution_count": null,
   "metadata": {},
   "outputs": [],
   "source": []
  },
  {
   "cell_type": "code",
   "execution_count": null,
   "metadata": {},
   "outputs": [],
   "source": []
  },
  {
   "cell_type": "code",
   "execution_count": 21,
   "metadata": {},
   "outputs": [
    {
     "data": {
      "text/html": [
       "<div>\n",
       "<style scoped>\n",
       "    .dataframe tbody tr th:only-of-type {\n",
       "        vertical-align: middle;\n",
       "    }\n",
       "\n",
       "    .dataframe tbody tr th {\n",
       "        vertical-align: top;\n",
       "    }\n",
       "\n",
       "    .dataframe thead th {\n",
       "        text-align: right;\n",
       "    }\n",
       "</style>\n",
       "<table border=\"1\" class=\"dataframe\">\n",
       "  <thead>\n",
       "    <tr style=\"text-align: right;\">\n",
       "      <th></th>\n",
       "      <th>Name</th>\n",
       "      <th>Age</th>\n",
       "      <th>Amount</th>\n",
       "      <th>Level</th>\n",
       "    </tr>\n",
       "  </thead>\n",
       "  <tbody>\n",
       "    <tr>\n",
       "      <th>0</th>\n",
       "      <td>Nik</td>\n",
       "      <td>32</td>\n",
       "      <td>80000</td>\n",
       "      <td>5</td>\n",
       "    </tr>\n",
       "    <tr>\n",
       "      <th>1</th>\n",
       "      <td>Kate</td>\n",
       "      <td>30</td>\n",
       "      <td>90000</td>\n",
       "      <td>7</td>\n",
       "    </tr>\n",
       "    <tr>\n",
       "      <th>2</th>\n",
       "      <td>Joe</td>\n",
       "      <td>67</td>\n",
       "      <td>45000</td>\n",
       "      <td>3</td>\n",
       "    </tr>\n",
       "    <tr>\n",
       "      <th>3</th>\n",
       "      <td>Mitch</td>\n",
       "      <td>34</td>\n",
       "      <td>23000</td>\n",
       "      <td>4</td>\n",
       "    </tr>\n",
       "    <tr>\n",
       "      <th>4</th>\n",
       "      <td>Alana</td>\n",
       "      <td>20</td>\n",
       "      <td>12000</td>\n",
       "      <td>4</td>\n",
       "    </tr>\n",
       "  </tbody>\n",
       "</table>\n",
       "</div>"
      ],
      "text/plain": [
       "    Name  Age  Amount  Level\n",
       "0    Nik   32   80000      5\n",
       "1   Kate   30   90000      7\n",
       "2    Joe   67   45000      3\n",
       "3  Mitch   34   23000      4\n",
       "4  Alana   20   12000      4"
      ]
     },
     "execution_count": 21,
     "metadata": {},
     "output_type": "execute_result"
    }
   ],
   "source": [
    "# Loading a Sample Pandas Dataframe\n",
    "import pandas as pd\n",
    "\n",
    "df = pd.DataFrame.from_dict({\n",
    "    'Name': ['Nik', 'Kate', 'Joe', 'Mitch', 'Alana'],\n",
    "    'Age': [32, 30, 67, 34, 20],\n",
    "    'Amount': [80000, 90000, 45000, 23000, 12000],\n",
    "    'Level' : [5, 7, 3, 4, 4]\n",
    "})\n",
    "(df.head())"
   ]
  },
  {
   "cell_type": "code",
   "execution_count": 27,
   "metadata": {},
   "outputs": [
    {
     "data": {
      "text/html": [
       "<div>\n",
       "<style scoped>\n",
       "    .dataframe tbody tr th:only-of-type {\n",
       "        vertical-align: middle;\n",
       "    }\n",
       "\n",
       "    .dataframe tbody tr th {\n",
       "        vertical-align: top;\n",
       "    }\n",
       "\n",
       "    .dataframe thead th {\n",
       "        text-align: right;\n",
       "    }\n",
       "</style>\n",
       "<table border=\"1\" class=\"dataframe\">\n",
       "  <thead>\n",
       "    <tr style=\"text-align: right;\">\n",
       "      <th></th>\n",
       "      <th>Name</th>\n",
       "      <th>Age</th>\n",
       "      <th>Amount</th>\n",
       "      <th>Level</th>\n",
       "      <th>Income zscore</th>\n",
       "      <th>Amount zscore</th>\n",
       "    </tr>\n",
       "  </thead>\n",
       "  <tbody>\n",
       "    <tr>\n",
       "      <th>0</th>\n",
       "      <td>Nik</td>\n",
       "      <td>32</td>\n",
       "      <td>80000</td>\n",
       "      <td>5</td>\n",
       "      <td>0.978700</td>\n",
       "      <td>0.978700</td>\n",
       "    </tr>\n",
       "    <tr>\n",
       "      <th>1</th>\n",
       "      <td>Kate</td>\n",
       "      <td>30</td>\n",
       "      <td>90000</td>\n",
       "      <td>7</td>\n",
       "      <td>1.304934</td>\n",
       "      <td>1.304934</td>\n",
       "    </tr>\n",
       "    <tr>\n",
       "      <th>2</th>\n",
       "      <td>Joe</td>\n",
       "      <td>67</td>\n",
       "      <td>45000</td>\n",
       "      <td>3</td>\n",
       "      <td>-0.163117</td>\n",
       "      <td>-0.163117</td>\n",
       "    </tr>\n",
       "    <tr>\n",
       "      <th>3</th>\n",
       "      <td>Mitch</td>\n",
       "      <td>34</td>\n",
       "      <td>23000</td>\n",
       "      <td>4</td>\n",
       "      <td>-0.880830</td>\n",
       "      <td>-0.880830</td>\n",
       "    </tr>\n",
       "    <tr>\n",
       "      <th>4</th>\n",
       "      <td>Alana</td>\n",
       "      <td>20</td>\n",
       "      <td>12000</td>\n",
       "      <td>4</td>\n",
       "      <td>-1.239687</td>\n",
       "      <td>-1.239687</td>\n",
       "    </tr>\n",
       "  </tbody>\n",
       "</table>\n",
       "</div>"
      ],
      "text/plain": [
       "    Name  Age  Amount  Level  Income zscore  Amount zscore\n",
       "0    Nik   32   80000      5       0.978700       0.978700\n",
       "1   Kate   30   90000      7       1.304934       1.304934\n",
       "2    Joe   67   45000      3      -0.163117      -0.163117\n",
       "3  Mitch   34   23000      4      -0.880830      -0.880830\n",
       "4  Alana   20   12000      4      -1.239687      -1.239687"
      ]
     },
     "execution_count": 27,
     "metadata": {},
     "output_type": "execute_result"
    }
   ],
   "source": [
    "df['Amount zscore'] = stats.zscore(df['Amount'])\n",
    "(df.head())\n"
   ]
  },
  {
   "cell_type": "code",
   "execution_count": 28,
   "metadata": {},
   "outputs": [
    {
     "name": "stdout",
     "output_type": "stream",
     "text": [
      "0.0036182783769480586\n"
     ]
    }
   ],
   "source": [
    "import scipy.stats as stats\n",
    "import math\n",
    "\n",
    "# Specify the sample mean (x_bar), the sample standard deviation (s), the mean claimed in the null-hypothesis (mu_null), and the sample size (n)\n",
    "x_bar = 62.1\n",
    "s = 13.46\n",
    "mu_null = 55\n",
    "n = 30\n",
    "\n",
    "# Calculate the test statistic\n",
    "test_stat = (x_bar - mu_null)/(s/math.sqrt(n))\n",
    "\n",
    "# Output the p-value of the test statistic (right tailed test)\n",
    "print(1-stats.t.cdf(test_stat, n-1))"
   ]
  },
  {
   "cell_type": "code",
   "execution_count": null,
   "metadata": {},
   "outputs": [],
   "source": []
  },
  {
   "cell_type": "code",
   "execution_count": null,
   "metadata": {},
   "outputs": [],
   "source": []
  }
 ],
 "metadata": {
  "kernelspec": {
   "display_name": "Python 3",
   "language": "python",
   "name": "python3"
  },
  "language_info": {
   "codemirror_mode": {
    "name": "ipython",
    "version": 3
   },
   "file_extension": ".py",
   "mimetype": "text/x-python",
   "name": "python",
   "nbconvert_exporter": "python",
   "pygments_lexer": "ipython3",
   "version": "3.7.6"
  }
 },
 "nbformat": 4,
 "nbformat_minor": 4
}
